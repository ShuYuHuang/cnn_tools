{
  "nbformat": 4,
  "nbformat_minor": 0,
  "metadata": {
    "colab": {
      "name": "ex_CNN_practice_simple.ipynb",
      "provenance": [],
      "collapsed_sections": []
    },
    "kernelspec": {
      "name": "python3",
      "display_name": "Python 3"
    },
    "accelerator": "GPU"
  },
  "cells": [
    {
      "cell_type": "code",
      "metadata": {
        "id": "DeXvH3HqJHdS",
        "colab_type": "code",
        "colab": {}
      },
      "source": [
        "# import package\n",
        "import matplotlib.pyplot as plt\n",
        "import numpy as np\n",
        "import os\n",
        "import tensorflow as tf\n",
        "from tensorflow.keras.datasets import cifar10\n",
        "from tensorflow.keras.models import Sequential, Model\n",
        "from tensorflow.keras.layers import (Input, Dense, Dropout,\n",
        "                                     Activation, Flatten, Conv2D,\n",
        "                                     MaxPooling2D)"
      ],
      "execution_count": 1,
      "outputs": []
    },
    {
      "cell_type": "code",
      "metadata": {
        "id": "_xBhQyswA-YA",
        "colab_type": "code",
        "colab": {
          "base_uri": "https://localhost:8080/",
          "height": 50
        },
        "outputId": "8b4da584-3d6a-4cfc-bd76-b17720c28dd8"
      },
      "source": [
        "(x_train, y_train), (x_test, y_test) = cifar10.load_data()"
      ],
      "execution_count": 4,
      "outputs": [
        {
          "output_type": "stream",
          "text": [
            "Downloading data from https://www.cs.toronto.edu/~kriz/cifar-10-python.tar.gz\n",
            "170500096/170498071 [==============================] - 11s 0us/step\n"
          ],
          "name": "stdout"
        }
      ]
    },
    {
      "cell_type": "code",
      "metadata": {
        "id": "YnQ31zwBgreE",
        "colab_type": "code",
        "colab": {
          "base_uri": "https://localhost:8080/",
          "height": 34
        },
        "outputId": "d7a0a689-f59a-438d-c3e5-c989d16e939b"
      },
      "source": [
        "x_test.shape"
      ],
      "execution_count": 5,
      "outputs": [
        {
          "output_type": "execute_result",
          "data": {
            "text/plain": [
              "(10000, 32, 32, 3)"
            ]
          },
          "metadata": {
            "tags": []
          },
          "execution_count": 5
        }
      ]
    },
    {
      "cell_type": "code",
      "metadata": {
        "id": "rqWWlP3zBCvd",
        "colab_type": "code",
        "colab": {
          "base_uri": "https://localhost:8080/",
          "height": 34
        },
        "outputId": "7cb3033c-a0f2-400b-a085-28a543f6a9f3"
      },
      "source": [
        "# 記得轉成 'float32'\n",
        "x_train = x_train.astype('float32')\n",
        "x_test = x_test.astype('float32')\n",
        "\n",
        "# 將 features (照片影像特徵值) 標準化，可以提高模型預測的準確度，並且更快收斂\n",
        "x_train /= 255  # rescaling\n",
        "x_test /= 255   # rescaling\n",
        "\n",
        "x_train.shape"
      ],
      "execution_count": 6,
      "outputs": [
        {
          "output_type": "execute_result",
          "data": {
            "text/plain": [
              "(50000, 32, 32, 3)"
            ]
          },
          "metadata": {
            "tags": []
          },
          "execution_count": 6
        }
      ]
    },
    {
      "cell_type": "code",
      "metadata": {
        "id": "Lm9eN5IpBv1Q",
        "colab_type": "code",
        "colab": {
          "base_uri": "https://localhost:8080/",
          "height": 50
        },
        "outputId": "622bf492-466d-442e-ba91-c1786d08c80b"
      },
      "source": [
        "# 將訓練資料與測試資料的 label，進行 Onehot encoding 轉換\n",
        "num_classes = 10\n",
        "# y_train = keras.utils.to_categorical(y_train, num_classes)\n",
        "# y_test = keras.utils.to_categorical(y_test, num_classes)\n",
        "\n",
        "y_train = np.eye(num_classes, dtype='float32')[y_train[:, 0]]\n",
        "y_test = np.eye(num_classes, dtype='float32')[y_test[:, 0]]\n",
        "\n",
        "print('y_train shape:', y_train.shape)\n",
        "print('y_test shape:', y_test.shape)"
      ],
      "execution_count": 7,
      "outputs": [
        {
          "output_type": "stream",
          "text": [
            "y_train shape: (50000, 10)\n",
            "y_test shape: (10000, 10)\n"
          ],
          "name": "stdout"
        }
      ]
    },
    {
      "cell_type": "code",
      "metadata": {
        "id": "Yl9hKuqzKwgd",
        "colab_type": "code",
        "colab": {
          "base_uri": "https://localhost:8080/",
          "height": 843
        },
        "outputId": "32457614-9f55-4f68-f751-c432c870d74c"
      },
      "source": [
        "premodel = tf.keras.applications.VGG16(weights='imagenet', include_top=False,input_shape=x_train.shape[1:])\n",
        "premodel.summary()"
      ],
      "execution_count": 8,
      "outputs": [
        {
          "output_type": "stream",
          "text": [
            "Downloading data from https://storage.googleapis.com/tensorflow/keras-applications/vgg16/vgg16_weights_tf_dim_ordering_tf_kernels_notop.h5\n",
            "58892288/58889256 [==============================] - 1s 0us/step\n",
            "Model: \"vgg16\"\n",
            "_________________________________________________________________\n",
            "Layer (type)                 Output Shape              Param #   \n",
            "=================================================================\n",
            "input_1 (InputLayer)         [(None, 32, 32, 3)]       0         \n",
            "_________________________________________________________________\n",
            "block1_conv1 (Conv2D)        (None, 32, 32, 64)        1792      \n",
            "_________________________________________________________________\n",
            "block1_conv2 (Conv2D)        (None, 32, 32, 64)        36928     \n",
            "_________________________________________________________________\n",
            "block1_pool (MaxPooling2D)   (None, 16, 16, 64)        0         \n",
            "_________________________________________________________________\n",
            "block2_conv1 (Conv2D)        (None, 16, 16, 128)       73856     \n",
            "_________________________________________________________________\n",
            "block2_conv2 (Conv2D)        (None, 16, 16, 128)       147584    \n",
            "_________________________________________________________________\n",
            "block2_pool (MaxPooling2D)   (None, 8, 8, 128)         0         \n",
            "_________________________________________________________________\n",
            "block3_conv1 (Conv2D)        (None, 8, 8, 256)         295168    \n",
            "_________________________________________________________________\n",
            "block3_conv2 (Conv2D)        (None, 8, 8, 256)         590080    \n",
            "_________________________________________________________________\n",
            "block3_conv3 (Conv2D)        (None, 8, 8, 256)         590080    \n",
            "_________________________________________________________________\n",
            "block3_pool (MaxPooling2D)   (None, 4, 4, 256)         0         \n",
            "_________________________________________________________________\n",
            "block4_conv1 (Conv2D)        (None, 4, 4, 512)         1180160   \n",
            "_________________________________________________________________\n",
            "block4_conv2 (Conv2D)        (None, 4, 4, 512)         2359808   \n",
            "_________________________________________________________________\n",
            "block4_conv3 (Conv2D)        (None, 4, 4, 512)         2359808   \n",
            "_________________________________________________________________\n",
            "block4_pool (MaxPooling2D)   (None, 2, 2, 512)         0         \n",
            "_________________________________________________________________\n",
            "block5_conv1 (Conv2D)        (None, 2, 2, 512)         2359808   \n",
            "_________________________________________________________________\n",
            "block5_conv2 (Conv2D)        (None, 2, 2, 512)         2359808   \n",
            "_________________________________________________________________\n",
            "block5_conv3 (Conv2D)        (None, 2, 2, 512)         2359808   \n",
            "_________________________________________________________________\n",
            "block5_pool (MaxPooling2D)   (None, 1, 1, 512)         0         \n",
            "=================================================================\n",
            "Total params: 14,714,688\n",
            "Trainable params: 14,714,688\n",
            "Non-trainable params: 0\n",
            "_________________________________________________________________\n"
          ],
          "name": "stdout"
        }
      ]
    },
    {
      "cell_type": "code",
      "metadata": {
        "id": "xxRivZ7tW_kr",
        "colab_type": "code",
        "colab": {}
      },
      "source": [
        ""
      ],
      "execution_count": null,
      "outputs": []
    },
    {
      "cell_type": "code",
      "metadata": {
        "id": "t593cQLRG_Fz",
        "colab_type": "code",
        "colab": {}
      },
      "source": [
        "from keras.regularizers import l2,l1\n",
        "for layer in premodel.layers[-4:]:\n",
        "    layer.trainable = True\n",
        "for layer in premodel.layers[:-4]:\n",
        "    layer.trainable = False\n",
        "dr=0.25\n",
        "l2_r=0.006\n",
        "l1_r=0.006\n",
        "flt=tf.keras.layers.Flatten()(premodel.output)\n",
        "D1=tf.keras.layers.Dense(512, activation=\"relu\",kernel_regularizer=l1(l1_r))(flt)\n",
        "D1=tf.keras.layers.Dropout(rate=dr)(D1)\n",
        "D2=tf.keras.layers.Dense(64, activation=\"relu\",kernel_regularizer=l1(l1_r))(D1)\n",
        "D2=tf.keras.layers.Dropout(rate=dr)(D2)\n",
        "OP2=tf.keras.layers.Dense(10, activation=\"softmax\")(D2)\n",
        "model = tf.keras.Model(premodel.input, OP2)"
      ],
      "execution_count": 16,
      "outputs": []
    },
    {
      "cell_type": "code",
      "metadata": {
        "id": "bxLaFfaPB_Lv",
        "colab_type": "code",
        "colab": {}
      },
      "source": [
        "# 編譯模型\n",
        "# 選用 Adam 為 optimizer\n",
        "learning_rate = 0.0003\n",
        "optimizer = tf.keras.optimizers.Adam(lr=learning_rate)\n",
        "\n",
        "model.compile(loss='categorical_crossentropy',\n",
        "  optimizer=optimizer,\n",
        "  metrics=['accuracy'])"
      ],
      "execution_count": 17,
      "outputs": []
    },
    {
      "cell_type": "code",
      "metadata": {
        "id": "pmA0iwm1xt7s",
        "colab_type": "code",
        "colab": {}
      },
      "source": [
        "model_dir = 'model-logs'\n",
        "if not os.path.exists(model_dir):\n",
        "    os.makedirs(model_dir)\n",
        "\n",
        "logfiles = model_dir + '/{}-{}'.format('basic_model', model.__class__.__name__)\n",
        "model_cbk = tf.keras.callbacks.TensorBoard(log_dir=logfiles,\n",
        "                                        histogram_freq=1)\n",
        "\n",
        "modelfiles = model_dir + '/{}-best-model.h5'.format('basic_model')\n",
        "model_mckp = tf.keras.callbacks.ModelCheckpoint(modelfiles,\n",
        "                                             monitor='val_accuracy',\n",
        "                                             save_best_only=True)\n",
        "\n",
        "earlystop = tf.keras.callbacks.EarlyStopping(monitor='val_loss',\n",
        "                                          patience=5,\n",
        "                                          verbose=1)\n",
        "\n",
        "\n",
        "callbacks_list = [model_cbk, model_mckp, earlystop]"
      ],
      "execution_count": 18,
      "outputs": []
    },
    {
      "cell_type": "code",
      "metadata": {
        "id": "A5JpmUQvCS-N",
        "colab_type": "code",
        "colab": {
          "base_uri": "https://localhost:8080/",
          "height": 961
        },
        "outputId": "f98374a9-1c11-470f-a890-e1f7d3fc8ebd"
      },
      "source": [
        "batch_size = 128\n",
        "epochs = 200\n",
        "rn50_history = model.fit(x_train, y_train,\n",
        "  batch_size=batch_size,\n",
        "  epochs=epochs,\n",
        "  validation_data=(x_test, y_test),\n",
        "  verbose=1,\n",
        "  shuffle=True,\n",
        "  callbacks=callbacks_list)"
      ],
      "execution_count": 19,
      "outputs": [
        {
          "output_type": "stream",
          "text": [
            "Epoch 1/200\n",
            "391/391 [==============================] - 37s 95ms/step - loss: 27.2300 - accuracy: 0.7421 - val_loss: 10.7325 - val_accuracy: 0.7705\n",
            "Epoch 2/200\n",
            "391/391 [==============================] - 37s 94ms/step - loss: 7.7918 - accuracy: 0.7807 - val_loss: 5.5562 - val_accuracy: 0.7745\n",
            "Epoch 3/200\n",
            "391/391 [==============================] - 36s 92ms/step - loss: 4.1288 - accuracy: 0.7824 - val_loss: 3.0424 - val_accuracy: 0.7695\n",
            "Epoch 4/200\n",
            "391/391 [==============================] - 36s 93ms/step - loss: 2.3309 - accuracy: 0.7843 - val_loss: 1.8256 - val_accuracy: 0.7770\n",
            "Epoch 5/200\n",
            "391/391 [==============================] - 36s 92ms/step - loss: 1.4804 - accuracy: 0.7885 - val_loss: 1.2665 - val_accuracy: 0.7766\n",
            "Epoch 6/200\n",
            "391/391 [==============================] - 36s 93ms/step - loss: 1.0918 - accuracy: 0.7906 - val_loss: 1.0060 - val_accuracy: 0.7753\n",
            "Epoch 7/200\n",
            "391/391 [==============================] - 36s 92ms/step - loss: 0.9136 - accuracy: 0.7919 - val_loss: 0.9219 - val_accuracy: 0.7721\n",
            "Epoch 8/200\n",
            "391/391 [==============================] - 36s 92ms/step - loss: 0.8405 - accuracy: 0.7937 - val_loss: 0.8792 - val_accuracy: 0.7691\n",
            "Epoch 9/200\n",
            "391/391 [==============================] - 36s 93ms/step - loss: 0.8047 - accuracy: 0.7945 - val_loss: 0.8488 - val_accuracy: 0.7731\n",
            "Epoch 10/200\n",
            "391/391 [==============================] - 37s 93ms/step - loss: 0.7884 - accuracy: 0.7953 - val_loss: 0.8086 - val_accuracy: 0.7828\n",
            "Epoch 11/200\n",
            "391/391 [==============================] - 36s 92ms/step - loss: 0.7804 - accuracy: 0.7957 - val_loss: 0.8180 - val_accuracy: 0.7817\n",
            "Epoch 12/200\n",
            "391/391 [==============================] - 36s 93ms/step - loss: 0.7682 - accuracy: 0.7983 - val_loss: 0.8100 - val_accuracy: 0.7830\n",
            "Epoch 13/200\n",
            "391/391 [==============================] - 36s 92ms/step - loss: 0.7584 - accuracy: 0.7993 - val_loss: 0.8014 - val_accuracy: 0.7823\n",
            "Epoch 14/200\n",
            "391/391 [==============================] - 36s 92ms/step - loss: 0.7559 - accuracy: 0.8007 - val_loss: 0.8101 - val_accuracy: 0.7824\n",
            "Epoch 15/200\n",
            "391/391 [==============================] - 37s 94ms/step - loss: 0.7549 - accuracy: 0.8002 - val_loss: 0.7951 - val_accuracy: 0.7847\n",
            "Epoch 16/200\n",
            "391/391 [==============================] - 36s 93ms/step - loss: 0.7488 - accuracy: 0.8009 - val_loss: 0.8148 - val_accuracy: 0.7806\n",
            "Epoch 17/200\n",
            "391/391 [==============================] - 36s 92ms/step - loss: 0.7421 - accuracy: 0.8018 - val_loss: 0.7995 - val_accuracy: 0.7834\n",
            "Epoch 18/200\n",
            "391/391 [==============================] - 36s 92ms/step - loss: 0.7386 - accuracy: 0.8025 - val_loss: 0.7923 - val_accuracy: 0.7844\n",
            "Epoch 19/200\n",
            "391/391 [==============================] - 36s 93ms/step - loss: 0.7381 - accuracy: 0.8037 - val_loss: 0.8025 - val_accuracy: 0.7842\n",
            "Epoch 20/200\n",
            "391/391 [==============================] - 36s 93ms/step - loss: 0.7311 - accuracy: 0.8048 - val_loss: 0.7934 - val_accuracy: 0.7879\n",
            "Epoch 21/200\n",
            "391/391 [==============================] - 36s 93ms/step - loss: 0.7278 - accuracy: 0.8074 - val_loss: 0.7924 - val_accuracy: 0.7879\n",
            "Epoch 22/200\n",
            "391/391 [==============================] - 36s 92ms/step - loss: 0.7249 - accuracy: 0.8064 - val_loss: 0.7834 - val_accuracy: 0.7862\n",
            "Epoch 23/200\n",
            "391/391 [==============================] - 36s 92ms/step - loss: 0.7221 - accuracy: 0.8077 - val_loss: 0.7913 - val_accuracy: 0.7855\n",
            "Epoch 24/200\n",
            "391/391 [==============================] - 36s 92ms/step - loss: 0.7181 - accuracy: 0.8093 - val_loss: 0.7986 - val_accuracy: 0.7879\n",
            "Epoch 25/200\n",
            "391/391 [==============================] - 36s 92ms/step - loss: 0.7144 - accuracy: 0.8086 - val_loss: 0.8153 - val_accuracy: 0.7801\n",
            "Epoch 26/200\n",
            "391/391 [==============================] - 36s 93ms/step - loss: 0.7124 - accuracy: 0.8093 - val_loss: 0.7909 - val_accuracy: 0.7861\n",
            "Epoch 27/200\n",
            "391/391 [==============================] - 37s 94ms/step - loss: 0.7066 - accuracy: 0.8108 - val_loss: 0.8003 - val_accuracy: 0.7891\n",
            "Epoch 00027: early stopping\n"
          ],
          "name": "stdout"
        }
      ]
    },
    {
      "cell_type": "code",
      "metadata": {
        "id": "Ms_P-tuPLYVt",
        "colab_type": "code",
        "colab": {
          "base_uri": "https://localhost:8080/",
          "height": 336
        },
        "outputId": "d7d90ddb-dc5a-4545-ee85-903febb9176e"
      },
      "source": [
        "train_history = ['loss', 'val_loss', 'accuracy', 'val_accuracy']\n",
        "name_history = ['training_loss', 'val_loss', 'training_acc', 'val_acc']\n",
        "\n",
        "plt.figure(figsize=(12, 5))\n",
        "for eachx, eachy, i in zip(train_history, name_history, range(4)):\n",
        "    if i % 2 == 0:\n",
        "        plt.subplot(1, 2, i//2+1)\n",
        "    l_x = len(rn50_history.history[eachx])\n",
        "    plt.plot(np.arange(l_x), rn50_history.history[eachx], label=eachy)\n",
        "    plt.legend(loc='best')\n",
        "    plt.title(eachy)\n",
        "plt.show()"
      ],
      "execution_count": 20,
      "outputs": [
        {
          "output_type": "display_data",
          "data": {
            "image/png": "[encoded data removed]",
            "text/plain": [
              "<Figure size 864x360 with 2 Axes>"
            ]
          },
          "metadata": {
            "tags": [],
            "needs_background": "light"
          }
        }
      ]
    },
    {
      "cell_type": "code",
      "metadata": {
        "id": "MtyUU_zo9q64",
        "colab_type": "code",
        "colab": {
          "base_uri": "https://localhost:8080/",
          "height": 454
        },
        "outputId": "c81486f0-5f87-4a35-e66a-673a5b1ee8b1"
      },
      "source": [
        "conv_layers=[]\n",
        "for layer in model.layers:\n",
        "    if (\"conv\" in layer.name):\n",
        "        print(layer.name)\n",
        "        print(layer.get_weights()[0].shape)\n",
        "        conv_layers=conv_layers+[layer.name] "
      ],
      "execution_count": 21,
      "outputs": [
        {
          "output_type": "stream",
          "text": [
            "block1_conv1\n",
            "(3, 3, 3, 64)\n",
            "block1_conv2\n",
            "(3, 3, 64, 64)\n",
            "block2_conv1\n",
            "(3, 3, 64, 128)\n",
            "block2_conv2\n",
            "(3, 3, 128, 128)\n",
            "block3_conv1\n",
            "(3, 3, 128, 256)\n",
            "block3_conv2\n",
            "(3, 3, 256, 256)\n",
            "block3_conv3\n",
            "(3, 3, 256, 256)\n",
            "block4_conv1\n",
            "(3, 3, 256, 512)\n",
            "block4_conv2\n",
            "(3, 3, 512, 512)\n",
            "block4_conv3\n",
            "(3, 3, 512, 512)\n",
            "block5_conv1\n",
            "(3, 3, 512, 512)\n",
            "block5_conv2\n",
            "(3, 3, 512, 512)\n",
            "block5_conv3\n",
            "(3, 3, 512, 512)\n"
          ],
          "name": "stdout"
        }
      ]
    },
    {
      "cell_type": "code",
      "metadata": {
        "id": "qxzChDjmoRT2",
        "colab_type": "code",
        "colab": {
          "base_uri": "https://localhost:8080/",
          "height": 34
        },
        "outputId": "fe185792-6f7f-44a4-ee69-10fed54582fd"
      },
      "source": [
        "model.get_layer(conv_layers[0]).get_weights()[0].shape"
      ],
      "execution_count": 78,
      "outputs": [
        {
          "output_type": "execute_result",
          "data": {
            "text/plain": [
              "(3, 3, 3, 64)"
            ]
          },
          "metadata": {
            "tags": []
          },
          "execution_count": 78
        }
      ]
    },
    {
      "cell_type": "code",
      "metadata": {
        "id": "rPGXd-pVY5Kl",
        "colab_type": "code",
        "colab": {}
      },
      "source": [
        "## Capture the possible effect of each layer, max pool not included\n",
        "# Usage: \n",
        "# job=filt_to_image(model) # establish class and list convolution layers\n",
        "# job.get_equ_fil(n) #calculate get_equ_filter for each possible layers (~layer n)\n",
        "# job.plot_eqfil(n,n_samples) # plot the effect of equivalent of n th layer \n",
        "import numpy as np\n",
        "import tensorflow as tf\n",
        "import matplotlib.pyplot as plt\n",
        "import random\n",
        "class filt_to_image():\n",
        "  \n",
        "  def __init__(self,model):\n",
        "\n",
        "    self.model=model\n",
        "    self.conv_layers=[layer.name for layer in self.model.layers if (\"conv\" in layer.name)]\n",
        "    self.nlayers=len(self.conv_layers)\n",
        "    self.equ_fil=[0]*self.nlayers\n",
        "    self.get_equ_fil(job.nlayers-1);\n",
        "  def get_equ_fil(self,rng,pad_acc=0):\n",
        "    fil=self.model.get_layer(self.conv_layers[rng]).get_weights()[0]\n",
        "    PAD=(fil.shape[0]-1)//2\n",
        "    if rng==0:    \n",
        "      img=tf.random.normal([1,fil.shape[0]+2*pad_acc,fil.shape[1]+2*pad_acc,fil.shape[2]])\n",
        "    else:\n",
        "      img=self.get_equ_fil(rng-1,pad_acc+PAD)\n",
        "    self.equ_fil[rng]=tf.nn.conv2d(img, fil, strides= [1, 1, 1, 1], padding=\"SAME\")\n",
        "    return self.equ_fil[rng]\n",
        "  def plot_eqfil(self,rng=0,n_samples=25):\n",
        "\n",
        "    x_a=np.ceil(np.sqrt(n_samples))\n",
        "    y_a=np.floor(np.sqrt(n_samples))\n",
        "    fig = plt.figure(figsize=(10,10))\n",
        "    fig.subplots_adjust(hspace=0.02,wspace=0.01,\n",
        "                    left=0,right=1,bottom=0, top=1)\n",
        "    ## original picture\n",
        "    total_samples=self.equ_fil[rng].shape[3]\n",
        "    order=np.linspace(1,total_samples,total_samples,dtype=\"int\")\n",
        "    random.shuffle(order)\n",
        "    i = 1\n",
        "    for sample in order[0:n_samples]:\n",
        "        ax = fig.add_subplot(x_a, y_a, i,xticks=[],yticks=[]) \n",
        "        ax.imshow(np.squeeze(self.equ_fil[rng][:,:,:,sample]))\n",
        "        ax.set_title(f\"sample{sample}\")\n",
        "        i += 1\n",
        "    plt.show()"
      ],
      "execution_count": 222,
      "outputs": []
    },
    {
      "cell_type": "code",
      "metadata": {
        "id": "6BN6OnxJug-Y",
        "colab_type": "code",
        "colab": {}
      },
      "source": [
        "job=filt_to_image(model)"
      ],
      "execution_count": 223,
      "outputs": []
    },
    {
      "cell_type": "code",
      "metadata": {
        "id": "SRAw-GgS3Lm1",
        "colab_type": "code",
        "colab": {
          "base_uri": "https://localhost:8080/",
          "height": 770
        },
        "outputId": "756a8f67-9b11-4821-d2db-dcc2aa7716f0"
      },
      "source": [
        "job.plot_eqfil(12,9)"
      ],
      "execution_count": 228,
      "outputs": [
        {
          "output_type": "display_data",
          "data": {
            "image/png": "[encoded data removed]",
            "text/plain": [
              "<Figure size 720x720 with 9 Axes>"
            ]
          },
          "metadata": {
            "tags": []
          }
        }
      ]
    },
    {
      "cell_type": "code",
      "metadata": {
        "id": "ZvIrDxZylDvq",
        "colab_type": "code",
        "colab": {}
      },
      "source": [
        ""
      ],
      "execution_count": null,
      "outputs": []
    }
  ]
}